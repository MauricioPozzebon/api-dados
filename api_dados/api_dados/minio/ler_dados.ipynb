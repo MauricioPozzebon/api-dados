{
 "cells": [
  {
   "cell_type": "code",
   "execution_count": 1,
   "metadata": {},
   "outputs": [
    {
     "name": "stdout",
     "output_type": "stream",
     "text": [
      "Files in bucket: ['dados-mercado/BRONZE/vendas_20240711231630.parquet', 'dados-mercado/BRONZE/vendas_20240711231746.parquet', 'dados-mercado/BRONZE/vendas_20240711232937.parquet', 'dados-mercado/BRONZE/vendas_20240711233129.parquet']\n",
      "Parquet files: ['dados-mercado/BRONZE/vendas_20240711231630.parquet', 'dados-mercado/BRONZE/vendas_20240711231746.parquet', 'dados-mercado/BRONZE/vendas_20240711232937.parquet', 'dados-mercado/BRONZE/vendas_20240711233129.parquet']\n",
      "Reading file: dados-mercado/BRONZE/vendas_20240711231630.parquet\n",
      "Reading file: dados-mercado/BRONZE/vendas_20240711231746.parquet\n",
      "Reading file: dados-mercado/BRONZE/vendas_20240711232937.parquet\n",
      "Reading file: dados-mercado/BRONZE/vendas_20240711233129.parquet\n",
      "                                               vendas\n",
      "0   {'cliente': {'id': None, 'nome': None}, 'itens...\n",
      "1   {'cliente': {'id': None, 'nome': None}, 'itens...\n",
      "2   {'cliente': {'id': None, 'nome': None}, 'itens...\n",
      "3   {'cliente': {'id': 2500.0, 'nome': 'Luara Guer...\n",
      "4   {'cliente': {'id': 3754.0, 'nome': 'João Vitor...\n",
      "5   {'cliente': {'id': 9134.0, 'nome': 'Diego Dias...\n",
      "6   {'cliente': {'id': None, 'nome': None}, 'itens...\n",
      "7   {'cliente': {'id': None, 'nome': None}, 'itens...\n",
      "8   {'cliente': {'id': 9023.0, 'nome': 'Leandro Ba...\n",
      "9   {'cliente': {'id': None, 'nome': None}, 'itens...\n",
      "10  {'cliente': {'id': None, 'nome': None}, 'itens...\n"
     ]
    }
   ],
   "source": [
    "import pandas as pd\n",
    "import s3fs\n",
    "\n",
    "# Configuração do sistema de arquivos S3\n",
    "fs = s3fs.S3FileSystem(\n",
    "    key='ROOT',  # Your MINIO_ROOT_USER\n",
    "    secret='PASSWORD',  # Your MINIO_ROOT_PASSWORD\n",
    "    client_kwargs={'endpoint_url': 'http://localhost:9000'}\n",
    ")\n",
    "\n",
    "# Listando os arquivos no bucket dados-mercado\n",
    "try:\n",
    "    files = fs.ls('dados-mercado/BRONZE')\n",
    "    print(\"Files in bucket:\", files)\n",
    "except FileNotFoundError as e:\n",
    "    print(\"Error listing files:\", e)\n",
    "    files = []\n",
    "\n",
    "# Filtrando os arquivos Parquet\n",
    "parquet_files = [f for f in files if f.endswith('.parquet')]\n",
    "print(\"Parquet files:\", parquet_files)\n",
    "\n",
    "# Lista para armazenar os DataFrames\n",
    "dfs = []\n",
    "\n",
    "# Lendo e concatenando todos os arquivos Parquet\n",
    "for file in parquet_files:\n",
    "    print(f\"Reading file: {file}\")\n",
    "    try:\n",
    "        with fs.open(file, 'rb') as f:\n",
    "            df = pd.read_parquet(f, engine='pyarrow')\n",
    "            dfs.append(df)\n",
    "    except FileNotFoundError as e:\n",
    "        print(f\"Error reading file {file}:\", e)\n",
    "\n",
    "# Concatenando todos os DataFrames em um único DataFrame\n",
    "if dfs:\n",
    "    all_data_df = pd.concat(dfs, ignore_index=True)\n",
    "    # Exibindo os dados\n",
    "    print(all_data_df)\n",
    "else:\n",
    "    print(\"No data to concatenate.\")\n"
   ]
  }
 ],
 "metadata": {
  "kernelspec": {
   "display_name": "api-dados-SIfoH43S-py3.12",
   "language": "python",
   "name": "python3"
  },
  "language_info": {
   "codemirror_mode": {
    "name": "ipython",
    "version": 3
   },
   "file_extension": ".py",
   "mimetype": "text/x-python",
   "name": "python",
   "nbconvert_exporter": "python",
   "pygments_lexer": "ipython3",
   "version": "3.12.4"
  }
 },
 "nbformat": 4,
 "nbformat_minor": 2
}
